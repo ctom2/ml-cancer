{
 "cells": [
  {
   "cell_type": "markdown",
   "metadata": {},
   "source": [
    "## Diagnosing breast cancer using machine learning algorithms\n",
    "\n",
    "This notebook describes how to use machine learning algorithms to classify breast cancer based on Breast Cancer Wisconsin (Diagnostic) Data Set from UCI Machine Learning Repository. The notebook is accompanied by an application that uses kNN algorithm for making predictions based on user input data.\n",
    "\n",
    "Let's start by importing the data as numpy array."
   ]
  },
  {
   "cell_type": "code",
   "execution_count": 1,
   "metadata": {},
   "outputs": [],
   "source": [
    "import numpy as np"
   ]
  },
  {
   "cell_type": "code",
   "execution_count": 2,
   "metadata": {},
   "outputs": [],
   "source": [
    "data_array = np.genfromtxt('./breast_cancer_dataset.csv', delimiter=',', dtype='float64, U1, float64, float64, float64, float64, float64, float64, float64, float64, float64, float64, float64, float64, float64, float64, float64, float64, float64, float64, float64, float64, float64, float64, float64, float64, float64, float64, float64, float64, float64, float64')\n",
    "tmp = np.array([list(elem) for elem in data_array])"
   ]
  },
  {
   "cell_type": "markdown",
   "metadata": {},
   "source": [
    "The array contains identification number and classificition of the instance in the first two columns. For the analysis and processing I do not need the identification numbers so I will delete them. Furthermore I need to extract the classification values so I can analyse the data. "
   ]
  },
  {
   "cell_type": "code",
   "execution_count": 3,
   "metadata": {},
   "outputs": [],
   "source": [
    "tmp = np.delete(tmp, 0, 1)\n",
    "results_array = tmp[:,0]\n",
    "tmp = np.delete(tmp, 0, 1)\n",
    "data_array = tmp.astype(np.float)"
   ]
  },
  {
   "cell_type": "markdown",
   "metadata": {},
   "source": [
    "Now I have two arrays, results_array coresponds to the categorization and data_array coresponds to the parameters of the elements."
   ]
  },
  {
   "cell_type": "code",
   "execution_count": 4,
   "metadata": {},
   "outputs": [
    {
     "name": "stdout",
     "output_type": "stream",
     "text": [
      "benign instances:  357 , malignant instances:  212\n"
     ]
    }
   ],
   "source": [
    "print('benign instances: ', np.count_nonzero(results_array == 'B'), ',', 'malignant instances: ', np.count_nonzero(results_array == 'M'))"
   ]
  },
  {
   "cell_type": "code",
   "execution_count": 5,
   "metadata": {},
   "outputs": [
    {
     "name": "stdout",
     "output_type": "stream",
     "text": [
      "[[1.799e+01 1.038e+01 1.228e+02 ... 2.654e-01 4.601e-01 1.189e-01]\n",
      " [2.057e+01 1.777e+01 1.329e+02 ... 1.860e-01 2.750e-01 8.902e-02]\n",
      " [1.969e+01 2.125e+01 1.300e+02 ... 2.430e-01 3.613e-01 8.758e-02]\n",
      " ...\n",
      " [1.660e+01 2.808e+01 1.083e+02 ... 1.418e-01 2.218e-01 7.820e-02]\n",
      " [2.060e+01 2.933e+01 1.401e+02 ... 2.650e-01 4.087e-01 1.240e-01]\n",
      " [7.760e+00 2.454e+01 4.792e+01 ... 0.000e+00 2.871e-01 7.039e-02]]\n"
     ]
    }
   ],
   "source": [
    "print(data_array)"
   ]
  },
  {
   "cell_type": "code",
   "execution_count": 6,
   "metadata": {},
   "outputs": [
    {
     "name": "stdout",
     "output_type": "stream",
     "text": [
      "569\n"
     ]
    }
   ],
   "source": [
    "print(len(data_array))"
   ]
  },
  {
   "cell_type": "markdown",
   "metadata": {},
   "source": [
    "The data_array consists of 569 instances of atributes of digitized image of a fine needle aspirate (FNA) of a breast mass. According to the UCI Machine Learning Repository the first ten values describe radius (mean of distances from center to points on the perimeter), texture (standard deviation of gray-scale values), perimeter, area, smoothness (local variation in radius lengths), compactness (perimeter^2 / area - 1.0), concavity (severity of concave portions of the contour), concave points (number of concave portions of the contour), symmetry and fractal dimension (\"coastline approximation\" - 1). The reamining values are the mean, standard error and \"worst\" or largest (mean of the three largest values) of these features.\n",
    "\n",
    "Now that I have the data imported I can create scatter plot of two features so I can visualise the distribution."
   ]
  },
  {
   "cell_type": "code",
   "execution_count": 7,
   "metadata": {},
   "outputs": [
    {
     "data": {
      "text/plain": [
       "<Figure size 640x480 with 1 Axes>"
      ]
     },
     "metadata": {},
     "output_type": "display_data"
    }
   ],
   "source": [
    "import matplotlib.pyplot as plt\n",
    "\n",
    "x_values_M = []\n",
    "y_values_M = []\n",
    "x_values_B = []\n",
    "y_values_B = []\n",
    "\n",
    "for i in range(len(data_array)):\n",
    "    if results_array[i] == 'M':\n",
    "        x_values_M.append(data_array[i][0])\n",
    "        y_values_M.append(data_array[i][1])\n",
    "    else:\n",
    "        x_values_B.append(data_array[i][0])\n",
    "        y_values_B.append(data_array[i][1])\n",
    "        \n",
    "plt.scatter(x_values_M, y_values_M, color='red', label='malignant', alpha=0.4)\n",
    "plt.scatter(x_values_B, y_values_B, color='blue', label='benign', alpha=0.4)\n",
    "\n",
    "plt.xlabel('malignant')\n",
    "plt.ylabel('benign')\n",
    "plt.legend(loc = 1)\n",
    "plt.show()"
   ]
  },
  {
   "cell_type": "markdown",
   "metadata": {},
   "source": [
    "Of course the number of parameters is much higher since I am working in much bigger space than just two-dimensional space.\n",
    "\n",
    "### 1. Using k-nearest neighbours algorithm\n",
    "The kNN algorithm is one of the most commonly used machine learning algorithm. It is mainly used for classification and regression. The classification is based on k, which number of nearest neighbours which are analysed and used for classification of a new object.\n",
    "\n",
    "For presentation purposes I am going to create a synthetic dataset with two clusters and two features."
   ]
  },
  {
   "cell_type": "code",
   "execution_count": 8,
   "metadata": {},
   "outputs": [
    {
     "data": {
      "image/png": "[encoded data removed]",
      "text/plain": [
       "<Figure size 432x288 with 1 Axes>"
      ]
     },
     "metadata": {
      "needs_background": "light"
     },
     "output_type": "display_data"
    }
   ],
   "source": [
    "from sklearn.datasets.samples_generator import make_blobs\n",
    "\n",
    "x, y = make_blobs(n_samples=500, centers=3, n_features=2, cluster_std=1, random_state=12)\n",
    "plt.scatter(x[y == 0, 0], x[y == 0, 1], color=\"red\", alpha=0.4)\n",
    "plt.scatter(x[y == 1, 0], x[y == 1, 1], color=\"blue\", alpha=0.4)\n",
    "plt.xlabel('x')\n",
    "plt.ylabel('y')\n",
    "plt.show()"
   ]
  },
  {
   "cell_type": "markdown",
   "metadata": {},
   "source": [
    "This generated scatter plot shows two clusters distinguished by the color. For demonstration purposes I will use those cluster.\n",
    "Let's say there is a new elements with features x = -9 and y = 3. How will I decide if the element will be red or blue?"
   ]
  },
  {
   "cell_type": "code",
   "execution_count": 9,
   "metadata": {},
   "outputs": [
    {
     "data": {
      "image/png": "[encoded data removed]",
      "text/plain": [
       "<Figure size 432x288 with 1 Axes>"
      ]
     },
     "metadata": {
      "needs_background": "light"
     },
     "output_type": "display_data"
    }
   ],
   "source": [
    "plt.scatter(x[y == 0, 0], x[y == 0, 1], color=\"red\", alpha=0.4)\n",
    "plt.scatter(x[y == 1, 0], x[y == 1, 1], color=\"blue\", alpha=0.4)\n",
    "plt.xlabel('x')\n",
    "plt.ylabel('y')\n",
    "plt.scatter([-9],[3], color=\"lime\", s=50)\n",
    "plt.show()"
   ]
  },
  {
   "cell_type": "markdown",
   "metadata": {},
   "source": [
    "The green point is closest to the red cluster. If I say that the k value will be 5, then I can see that if I choose five closest points to the green element, all of them will be red. That means that the green point would be classified as red. If for example three out of the five closest neighbours are blue and the remaining two are red, the object will be classified as blue since the classification is based on majority function.\n",
    "\n",
    "For humans it can be easy to classify objects based on their position in 2-dimensional or 3-dimensional space just by looking at the plots. For computers however, the task is a little more complicated. The kNN algorithm uses distance functions to calculate the distance between objects. Then it chooses the k closest objects and classifies it accordingly. Thanks to distance function I can calculate distance of objects in space with much higher dimensionality than just 2d and 3d. Euclidian metric is often used to calculate the distance between objects."
   ]
  },
  {
   "cell_type": "code",
   "execution_count": 10,
   "metadata": {},
   "outputs": [
    {
     "data": {
      "text/latex": [
       "$\\displaystyle dist(A,B)=\\sqrt\\frac{\\sum_{i=1}^{m}(x_i - y_i)^2}{m}\\\\A=(x_1, x_2, ..., x_m)\\\\ B=(y_1, y_2, ..., y_m)$"
      ],
      "text/plain": [
       "<IPython.core.display.Math object>"
      ]
     },
     "execution_count": 10,
     "metadata": {},
     "output_type": "execute_result"
    }
   ],
   "source": [
    "from IPython.display import Math\n",
    "Math(r'dist(A,B)=\\sqrt\\frac{\\sum_{i=1}^{m}(x_i - y_i)^2}{m}\\\\A=(x_1, x_2, ..., x_m)\\\\ B=(y_1, y_2, ..., y_m)')"
   ]
  },
  {
   "cell_type": "markdown",
   "metadata": {},
   "source": [
    "The m value in the equation represents the dimension of the space."
   ]
  },
  {
   "cell_type": "markdown",
   "metadata": {},
   "source": [
    "Now that I know how the algorithm works I can use it to make predictions about new instances. I am going to split the original UCI dataset so two thirds are used for learning and one third for validating."
   ]
  },
  {
   "cell_type": "code",
   "execution_count": 11,
   "metadata": {},
   "outputs": [],
   "source": [
    "import math\n",
    "\n",
    "# Splits data into two datasets, first part is intended for learning and second part is intended for validation.\n",
    "def split_data(data_array, results_array, training_size = 0.67):\n",
    "    training_data = [] # training data (first 67% of the original dataset) = first part\n",
    "    training_results = [] # training data results\n",
    "    validation_data = [] # validation data (remaining 33% of the original dataset) = second part\n",
    "    validation_results = [] # validation data results\n",
    "\n",
    "    training_length = math.ceil(len(data_array) * training_size)\n",
    "    for i in range(training_length):\n",
    "        training_data.append(data_array[i])\n",
    "        training_results.append(results_array[i])\n",
    "\n",
    "    for i in range(len(data_array) - training_length):\n",
    "        validation_data.append(data_array[i + training_length])\n",
    "        validation_results.append(results_array[i + training_length])\n",
    "\n",
    "    training_data = np.array(training_data)\n",
    "    training_results = np.array(training_results)\n",
    "    validation_data = np.array(validation_data)\n",
    "    validation_results = np.array(validation_results)\n",
    "\n",
    "    return training_data, training_results, validation_data, validation_results"
   ]
  },
  {
   "cell_type": "code",
   "execution_count": 12,
   "metadata": {},
   "outputs": [],
   "source": [
    "training_data, training_results, validation_data, validation_results = split_data(data_array, results_array)"
   ]
  },
  {
   "cell_type": "markdown",
   "metadata": {},
   "source": [
    "The sklearn library already offers implemented classifier so I am going to use it. The precision and quality of the classifier is based on the k value. In order to get the best results I will pick a value in range [1,50] that gives the best results."
   ]
  },
  {
   "cell_type": "code",
   "execution_count": 13,
   "metadata": {},
   "outputs": [],
   "source": [
    "from sklearn.neighbors import KNeighborsClassifier\n",
    "\n",
    "def best_k():\n",
    "    accuracy = 0\n",
    "    k = 1\n",
    "\n",
    "    for i in range(1, 50):\n",
    "        classifier = KNeighborsClassifier(n_neighbors = i)\n",
    "        classifier.fit(training_data, training_results)\n",
    "        if classifier.score(validation_data, validation_results) > accuracy:\n",
    "            accuracy = classifier.score(validation_data, validation_results)\n",
    "            k = i\n",
    "\n",
    "    return k"
   ]
  },
  {
   "cell_type": "code",
   "execution_count": 14,
   "metadata": {},
   "outputs": [
    {
     "name": "stdout",
     "output_type": "stream",
     "text": [
      "k = 24\n",
      "accuracy = 0.9572192513368984\n"
     ]
    }
   ],
   "source": [
    "k = best_k()\n",
    "classifier = KNeighborsClassifier(n_neighbors = k)\n",
    "classifier.fit(training_data, training_results)\n",
    "\n",
    "print('k =', k)\n",
    "print('accuracy =', classifier.score(validation_data, validation_results))"
   ]
  },
  {
   "cell_type": "markdown",
   "metadata": {},
   "source": [
    "The best k value in this case is 24 and it gives accuracy around 95.72 % on the validation data. The classifier is set so it can be used for making predictions."
   ]
  },
  {
   "cell_type": "code",
   "execution_count": 15,
   "metadata": {},
   "outputs": [],
   "source": [
    "instance_a = [17.99,10.38,122.8,1001,0.1184,0.2776,0.3001,0.1471,0.2419,0.07871,1.095,0.9053,8.589,153.4,\\\n",
    "              0.006399,0.04904,0.05373,0.01587,0.03003,0.006193,25.38,17.33,184.6,2019,0.1622,0.6656,0.7119,\\\n",
    "              0.2654,0.4601,0.1189]\n",
    "\n",
    "instance_b = [11.94,18.24,75.71,437.6,0.08261,0.04751,0.01972,0.01349,0.1868,0.0611,0.2273,0.6329,1.52,17.47,\\\n",
    "              0.00721,0.00838,0.01311,0.008,0.01996,0.002635,13.1,21.33,83.67,527.2,0.1144,0.08906,0.09203,\\\n",
    "              0.06296,0.2785,0.07408]\n",
    "\n",
    "instance_a = np.array(instance_a).reshape(1,-1).astype(np.float64)\n",
    "instance_b = np.array(instance_b).reshape(1,-1).astype(np.float64)"
   ]
  },
  {
   "cell_type": "code",
   "execution_count": 16,
   "metadata": {},
   "outputs": [
    {
     "name": "stdout",
     "output_type": "stream",
     "text": [
      "Prediction of instance A: ['M']\n",
      "Prediction of instance B: ['B']\n"
     ]
    }
   ],
   "source": [
    "print('Prediction of instance A:', classifier.predict(instance_a))\n",
    "print('Prediction of instance B:', classifier.predict(instance_b))"
   ]
  },
  {
   "cell_type": "markdown",
   "metadata": {},
   "source": [
    "From the predictions I can see that the instance A was classified as malignant and instance B was classified as benign which corresponds to the classifications that were stated in the original dataset. \n",
    "\n",
    "### 2. Using support-vector machine"
   ]
  },
  {
   "cell_type": "markdown",
   "metadata": {},
   "source": [
    "### 3. Using neural network\n",
    "\n",
    "The final classification process I am presenting is using neural network to analyze the data. \n",
    "\n",
    "The neural network is a system of connected nodes which are producing output values based on input. Those values are propagated through the network to the last node that produces the resulting value. The neural network works in a similar way as neurons in a biological brain. The nodes (or neurons) are connected to each other by edges and each edge has a weight. The processes happening inside the nodes and the weights of the edges are the main source of the predictions. I am using Sequential from keras which uses backpropagation algorithm for altering the network in a particular way so it can make precise predictions."
   ]
  },
  {
   "cell_type": "code",
   "execution_count": 17,
   "metadata": {},
   "outputs": [
    {
     "name": "stderr",
     "output_type": "stream",
     "text": [
      "Using TensorFlow backend.\n"
     ]
    }
   ],
   "source": [
    "from keras import Sequential\n",
    "from keras.layers import Dense\n",
    "from numpy.random import seed\n",
    "seed(142857)"
   ]
  },
  {
   "cell_type": "markdown",
   "metadata": {},
   "source": [
    "After importing the libraries I am going to define the neuaral network. The input layer takes in 30 values which is the dimension of the space I am working in. Next I added first and second hidden layer with 16 and 8 nodes. Those two layers are using rectifier as activation function for its faster learning rate than with sigmoid function:"
   ]
  },
  {
   "cell_type": "code",
   "execution_count": 18,
   "metadata": {},
   "outputs": [
    {
     "data": {
      "text/latex": [
       "$\\displaystyle f(x)=max(0,x)$"
      ],
      "text/plain": [
       "<IPython.core.display.Math object>"
      ]
     },
     "execution_count": 18,
     "metadata": {},
     "output_type": "execute_result"
    }
   ],
   "source": [
    "Math(r'f(x)=max(0,x)')"
   ]
  },
  {
   "cell_type": "markdown",
   "metadata": {},
   "source": [
    "The output layer is than using classic sigmoid function because works well for classification problems:"
   ]
  },
  {
   "cell_type": "code",
   "execution_count": 19,
   "metadata": {},
   "outputs": [
    {
     "data": {
      "text/latex": [
       "$\\displaystyle S(x)=\\frac{1}{1+e^{-x}}$"
      ],
      "text/plain": [
       "<IPython.core.display.Math object>"
      ]
     },
     "execution_count": 19,
     "metadata": {},
     "output_type": "execute_result"
    }
   ],
   "source": [
    "Math(r'S(x)=\\frac{1}{1+e^{-x}}')"
   ]
  },
  {
   "cell_type": "code",
   "execution_count": 20,
   "metadata": {},
   "outputs": [
    {
     "name": "stdout",
     "output_type": "stream",
     "text": [
      "WARNING:tensorflow:From /Library/Frameworks/Python.framework/Versions/3.7/lib/python3.7/site-packages/tensorflow/python/framework/op_def_library.py:263: colocate_with (from tensorflow.python.framework.ops) is deprecated and will be removed in a future version.\n",
      "Instructions for updating:\n",
      "Colocations handled automatically by placer.\n"
     ]
    }
   ],
   "source": [
    "network = Sequential()\n",
    "# first hidden layer\n",
    "network.add(Dense(16, activation='relu', kernel_initializer='random_normal', input_dim=30))\n",
    "# second hidden layer\n",
    "network.add(Dense(8, activation='relu', kernel_initializer='random_normal'))\n",
    "# output layer\n",
    "network.add(Dense(1, activation='sigmoid', kernel_initializer='random_normal'))\n",
    "\n",
    "network.compile(optimizer ='adam',loss='binary_crossentropy', metrics =['accuracy'])"
   ]
  },
  {
   "cell_type": "markdown",
   "metadata": {},
   "source": [
    "After compiling the neural network I need to transfer the result array so the network can work with numeric values. Next, the network will be trained on the training dataset in 100 iterations."
   ]
  },
  {
   "cell_type": "code",
   "execution_count": 21,
   "metadata": {},
   "outputs": [
    {
     "name": "stdout",
     "output_type": "stream",
     "text": [
      "WARNING:tensorflow:From /Library/Frameworks/Python.framework/Versions/3.7/lib/python3.7/site-packages/tensorflow/python/ops/math_ops.py:3066: to_int32 (from tensorflow.python.ops.math_ops) is deprecated and will be removed in a future version.\n",
      "Instructions for updating:\n",
      "Use tf.cast instead.\n"
     ]
    },
    {
     "data": {
      "text/plain": [
       "<keras.callbacks.History at 0x12d171978>"
      ]
     },
     "execution_count": 21,
     "metadata": {},
     "output_type": "execute_result"
    }
   ],
   "source": [
    "training_results = np.where(training_results == 'M', 1, training_results)\n",
    "training_results = np.where(training_results == 'B', 0, training_results)\n",
    "\n",
    "network.fit(training_data, training_results, batch_size=10, epochs=100, verbose=0)"
   ]
  },
  {
   "cell_type": "markdown",
   "metadata": {},
   "source": [
    "Now that the training is done I can evaluate the network."
   ]
  },
  {
   "cell_type": "code",
   "execution_count": 22,
   "metadata": {},
   "outputs": [
    {
     "name": "stdout",
     "output_type": "stream",
     "text": [
      "382/382 [==============================] - 0s 179us/step\n",
      "[0.169817975678369, 0.9345549716375261]\n"
     ]
    }
   ],
   "source": [
    "evaluation = network.evaluate(training_data, training_results)\n",
    "print(evaluation)"
   ]
  },
  {
   "cell_type": "markdown",
   "metadata": {},
   "source": [
    "The neural network has accuracy of 93.19 % based on the training data. This result is quite high and I can trust it that the classifications will be accurate. \n",
    "\n",
    "In order to see the precision on the validation set I am going to use a confusion matrix."
   ]
  },
  {
   "cell_type": "code",
   "execution_count": 23,
   "metadata": {},
   "outputs": [
    {
     "name": "stdout",
     "output_type": "stream",
     "text": [
      "[[140   4]\n",
      " [  4  39]]\n"
     ]
    }
   ],
   "source": [
    "from sklearn.metrics import confusion_matrix\n",
    "\n",
    "validation_results = np.where(validation_results == 'M', 1, validation_results)\n",
    "validation_results = np.where(validation_results == 'B', 0, validation_results)\n",
    "validation_results = np.array(validation_results).reshape(-1,1).astype(np.float64)\n",
    "\n",
    "prediction = network.predict(validation_data)\n",
    "prediction = prediction > 0.5\n",
    "\n",
    "cm = confusion_matrix(validation_results, prediction)\n",
    "print(cm)"
   ]
  },
  {
   "cell_type": "markdown",
   "metadata": {},
   "source": [
    "Out of 187 instances the network failed to classify correctly only 8 instances. To get the accuracy score I simply use the accuracy_score function from sklearn library."
   ]
  },
  {
   "cell_type": "code",
   "execution_count": 24,
   "metadata": {},
   "outputs": [
    {
     "name": "stdout",
     "output_type": "stream",
     "text": [
      "0.9572192513368984\n"
     ]
    }
   ],
   "source": [
    "from sklearn.metrics import accuracy_score\n",
    "\n",
    "print(accuracy_score(validation_results, prediction))"
   ]
  },
  {
   "cell_type": "markdown",
   "metadata": {},
   "source": [
    "The neural network has accuracy of 95.72 % on the validation data."
   ]
  }
 ],
 "metadata": {
  "kernelspec": {
   "display_name": "Python 3",
   "language": "python",
   "name": "python3"
  },
  "language_info": {
   "codemirror_mode": {
    "name": "ipython",
    "version": 3
   },
   "file_extension": ".py",
   "mimetype": "text/x-python",
   "name": "python",
   "nbconvert_exporter": "python",
   "pygments_lexer": "ipython3",
   "version": "3.7.2"
  }
 },
 "nbformat": 4,
 "nbformat_minor": 2
}
